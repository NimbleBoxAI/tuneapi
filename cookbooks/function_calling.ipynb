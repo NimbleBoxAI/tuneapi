{
 "cells": [
  {
   "cell_type": "code",
   "execution_count": 1,
   "metadata": {},
   "outputs": [],
   "source": [
    "from tuneapi import types as tt\n",
    "from tuneapi import utils as tu\n",
    "from tuneapi import apis as ta"
   ]
  },
  {
   "cell_type": "code",
   "execution_count": 2,
   "metadata": {},
   "outputs": [
    {
     "data": {
      "text/plain": [
       "<Tool: find_movies>"
      ]
     },
     "execution_count": 2,
     "metadata": {},
     "output_type": "execute_result"
    }
   ],
   "source": [
    "# define a simple tool\n",
    "find_movies_tool = tt.Tool(\n",
    "    \"find_movies\",\n",
    "    \"find movie titles currently playing in theaters based on any description, genre, title words, etc.\",\n",
    "    parameters=[\n",
    "        tt.Tool.Prop(\n",
    "            \"location\",\n",
    "            \"The city and state, e.g. San Francisco, CA or a zip code e.g. 95616\",\n",
    "            \"string\",\n",
    "        ),\n",
    "        tt.Tool.Prop(\n",
    "            \"description\",\n",
    "            \"Any kind of description including category or genre, title words, attributes, etc.\",\n",
    "            \"string\",\n",
    "            required=True,\n",
    "        ),\n",
    "    ],\n",
    ")\n",
    "find_movies_tool"
   ]
  },
  {
   "cell_type": "code",
   "execution_count": 3,
   "metadata": {},
   "outputs": [
    {
     "data": {
      "text/plain": [
       "<Tool: find_theaters>"
      ]
     },
     "execution_count": 3,
     "metadata": {},
     "output_type": "execute_result"
    }
   ],
   "source": [
    "# load existing from dictionaries\n",
    "find_theatre = tt.Tool.from_dict({\n",
    "    \"name\": \"find_theaters\",\n",
    "    \"description\": \"find theaters based on location and optionally movie title which is currently playing in theaters\",\n",
    "    \"parameters\": {\n",
    "    \"type\": \"object\",\n",
    "    \"properties\": {\n",
    "        \"location\": {\n",
    "        \"type\": \"string\",\n",
    "        \"description\": \"The city and state, e.g. San Francisco, CA or a zip code e.g. 95616\"\n",
    "        },\n",
    "        \"movie\": {\n",
    "        \"type\": \"string\",\n",
    "        \"description\": \"Any movie title\"\n",
    "        }\n",
    "    },\n",
    "    \"required\": [\n",
    "        \"location\"\n",
    "    ]\n",
    "    }\n",
    "})\n",
    "find_theatre"
   ]
  },
  {
   "cell_type": "code",
   "execution_count": 4,
   "metadata": {},
   "outputs": [
    {
     "data": {
      "text/plain": [
       "<Thread 'thread_71815343378436098' \n",
       "  <system: \"You are Tune Blob, a super star AI movie buff!\">\n",
       "  <human: \"What movies are showing in Chennai tonight?\">\n",
       "  <tools: ['find_movies', 'find_theaters', 'get_showtimes']>\n",
       ">"
      ]
     },
     "execution_count": 4,
     "metadata": {},
     "output_type": "execute_result"
    }
   ],
   "source": [
    "# create a thread, keep adding messages like a list\n",
    "thread = tt.Thread(\n",
    "    tt.system(\"You are Tune Blob, a super star AI movie buff!\"),\n",
    "    tt.human(\"What movies are showing in Chennai tonight?\"),\n",
    "    tools = [\n",
    "        find_movies_tool,\n",
    "        find_theatre,\n",
    "        tt.Tool(\n",
    "            name = \"get_showtimes\",\n",
    "            description = \"Find the start times for movies playing in a specific theater\",\n",
    "            parameters = [\n",
    "                tt.Tool.Prop(\n",
    "                    name = \"location\",\n",
    "                    description = \"The city and state, e.g. San Francisco, CA or a zip code e.g. 95616\",\n",
    "                    type = \"string\",\n",
    "                    required = True\n",
    "                ),\n",
    "                tt.Tool.Prop(\n",
    "                    name = \"movie\",\n",
    "                    description = \"Any movie title\",\n",
    "                    type = \"string\",\n",
    "                    required = True\n",
    "                ),\n",
    "                tt.Tool.Prop(\n",
    "                    name = \"theater\",\n",
    "                    description = \"Name of the theater\",\n",
    "                    type = \"string\",\n",
    "                    required = True\n",
    "                ),\n",
    "                tt.Tool.Prop(\n",
    "                    name = \"date\",\n",
    "                    description = \"Date for requested showtime\",\n",
    "                    type = \"string\",\n",
    "                    required = True\n",
    "                )\n",
    "            ]\n",
    "        )\n",
    "    ]\n",
    ")\n",
    "thread"
   ]
  },
  {
   "cell_type": "code",
   "execution_count": 5,
   "metadata": {},
   "outputs": [
    {
     "name": "stdout",
     "output_type": "stream",
     "text": [
      "{'name': 'find_movies', 'arguments': {'location': 'Chennai', 'description': ' '}}\n"
     ]
    }
   ],
   "source": [
    "# connect to a model from Tune Studio\n",
    "\n",
    "model = ta.Openai()\n",
    "\n",
    "# model = ta.TuneModel(\n",
    "#     \"yash/yash-gpt-4o\",\n",
    "# )\n",
    "\n",
    "# # or connect to few that have first class support\n",
    "# model = ta.Anthropic()\n",
    "\n",
    "\n",
    "out = model.chat(thread)\n",
    "print(out)"
   ]
  },
  {
   "cell_type": "code",
   "execution_count": 6,
   "metadata": {},
   "outputs": [
    {
     "data": {
      "text/plain": [
       "<Thread 'thread_71815343378436098' \n",
       "  <system: \"You are Tune Blob, a super star AI movie buff!\">\n",
       "  <human: \"What movies are showing in Chennai tonight?\">\n",
       "  <function_call: {\"name\": \"find_movies\", \"arguments\": {\"location\": >\n",
       "  <tools: ['find_movies', 'find_theaters', 'get_showtimes']>\n",
       ">"
      ]
     },
     "execution_count": 6,
     "metadata": {},
     "output_type": "execute_result"
    }
   ],
   "source": [
    "# continue the thread\n",
    "thread.append(\n",
    "    tt.function_call(out)\n",
    ")\n",
    "thread"
   ]
  },
  {
   "cell_type": "code",
   "execution_count": 7,
   "metadata": {},
   "outputs": [
    {
     "data": {
      "text/plain": [
       "<Thread 'thread_71815343378436098' \n",
       "  <system: \"You are Tune Blob, a super star AI movie buff!\">\n",
       "  <human: \"What movies are showing in Chennai tonight?\">\n",
       "  <function_call: {\"name\": \"find_movies\", \"arguments\": {\"location\": >\n",
       "  <function_resp: {\"movie\": \"Barbie\", \"theaters\": [{\"name\": \"PVR - E>\n",
       "  <tools: ['find_movies', 'find_theaters', 'get_showtimes']>\n",
       ">"
      ]
     },
     "execution_count": 7,
     "metadata": {},
     "output_type": "execute_result"
    }
   ],
   "source": [
    "# now attach a simple output after running the `find_movies` function\n",
    "# resp = find_movies(**{'location': 'Chennai', 'description': ' '})\n",
    "\n",
    "thread.append(tt.function_resp({\n",
    "    \"movie\": \"Barbie\",\n",
    "    \"theaters\": [\n",
    "        {\n",
    "            \"name\": \"PVR - ECR\",\n",
    "            \"address\": \"PVR: Heritage RSL ECR, Chennai - 600119\"\n",
    "        }, {\n",
    "            \"name\": \"Jazz Cinemas LUXE\",\n",
    "            \"address\": \"No. 142, 2nd Floor, Phoenix Market City, Velachery Main Rd, Indira Gandhi Nagar, Velachery, Chennai, Tamil Nadu 600042\"\n",
    "        }\n",
    "    ]\n",
    "}))\n",
    "thread"
   ]
  },
  {
   "cell_type": "code",
   "execution_count": 8,
   "metadata": {},
   "outputs": [
    {
     "name": "stdout",
     "output_type": "stream",
     "text": [
      "Here are some movies showing in Chennai tonight:\n",
      "\n",
      "### Barbie\n",
      "- **Theater 1:** PVR - ECR\n",
      "  - **Address:** PVR: Heritage RSL ECR, Chennai - 600119\n",
      "- **Theater 2:** Jazz Cinemas LUXE\n",
      "  - **Address:** No. 142, 2nd Floor, Phoenix Market City, Velachery Main Rd, Indira Gandhi Nagar, Velachery, Chennai, Tamil Nadu 600042\n",
      "\n",
      "Would you like to know the specific showtimes for any of these movies?\n"
     ]
    }
   ],
   "source": [
    "# continue the conversation to get response from the model\n",
    "out = model.chat(thread)\n",
    "print(out)"
   ]
  }
 ],
 "metadata": {
  "kernelspec": {
   "display_name": "Python 3",
   "language": "python",
   "name": "python3"
  },
  "language_info": {
   "codemirror_mode": {
    "name": "ipython",
    "version": 3
   },
   "file_extension": ".py",
   "mimetype": "text/x-python",
   "name": "python",
   "nbconvert_exporter": "python",
   "pygments_lexer": "ipython3",
   "version": "3.13.0"
  }
 },
 "nbformat": 4,
 "nbformat_minor": 2
}
